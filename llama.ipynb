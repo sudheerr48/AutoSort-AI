{
 "cells": [
  {
   "cell_type": "code",
   "execution_count": 18,
   "id": "3fde1fc6-cf4f-412a-bcb7-35e8e0d69d5a",
   "metadata": {},
   "outputs": [
    {
     "name": "stdout",
     "output_type": "stream",
     "text": [
      "Collecting cryptography\n",
      "  Downloading cryptography-44.0.0-cp39-abi3-macosx_10_9_universal2.whl (6.5 MB)\n",
      "\u001b[K     |████████████████████████████████| 6.5 MB 6.1 MB/s eta 0:00:01\n",
      "\u001b[?25hRequirement already satisfied: cffi>=1.12 in /Users/nagasudheerravela/Desktop/Sudheer_Workspace/Projects/Chat_With_Your_Data/venv/lib/python3.9/site-packages (from cryptography) (1.17.1)\n",
      "Requirement already satisfied: pycparser in /Users/nagasudheerravela/Desktop/Sudheer_Workspace/Projects/Chat_With_Your_Data/venv/lib/python3.9/site-packages (from cffi>=1.12->cryptography) (2.22)\n",
      "Installing collected packages: cryptography\n",
      "Successfully installed cryptography-44.0.0\n"
     ]
    }
   ],
   "source": [
    "#!pip install pandas\n",
    "!pip install cryptography"
   ]
  },
  {
   "cell_type": "code",
   "execution_count": 2,
   "id": "ead1440e-32a2-41a2-8adc-aa3aafa0f0cb",
   "metadata": {},
   "outputs": [
    {
     "name": "stdout",
     "output_type": "stream",
     "text": [
      "{\"models\":[{\"name\":\"llama3.2:latest\",\"model\":\"llama3.2:latest\",\"modified_at\":\"2025-02-01T12:50:30.696551832-06:00\",\"size\":2019393189,\"digest\":\"a80c4f17acd55265feec403c7aef86be0c25983ab279d83f3bcd3abbcb5b8b72\",\"details\":{\"parent_model\":\"\",\"format\":\"gguf\",\"family\":\"llama\",\"families\":[\"llama\"],\"parameter_size\":\"3.2B\",\"quantization_level\":\"Q4_K_M\"}},{\"name\":\"phi:latest\",\"model\":\"phi:latest\",\"modified_at\":\"2025-01-31T00:05:20.974236818-06:00\",\"size\":1602463378,\"digest\":\"e2fd6321a5fe6bb3ac8a4e6f1cf04477fd2dea2924cf53237a995387e152ee9c\",\"details\":{\"parent_model\":\"\",\"format\":\"gguf\",\"family\":\"phi2\",\"families\":[\"phi2\"],\"parameter_size\":\"3B\",\"quantization_level\":\"Q4_0\"}},{\"name\":\"tinyllama:latest\",\"model\":\"tinyllama:latest\",\"modified_at\":\"2025-01-31T00:04:15.986647282-06:00\",\"size\":637700138,\"digest\":\"2644915ede352ea7bdfaff0bfac0be74c719d5d5202acb63a6fb095b52f394a4\",\"details\":{\"parent_model\":\"\",\"format\":\"gguf\",\"family\":\"llama\",\"families\":[\"llama\"],\"parameter_size\":\"1B\",\"quantization_level\":\"Q4_0\"}},{\"name\":\"mistral:latest\",\"model\":\"mistral:latest\",\"modified_at\":\"2025-01-31T00:03:47.472022701-06:00\",\"size\":4113301824,\"digest\":\"f974a74358d62a017b37c6f424fcdf2744ca02926c4f952513ddf474b2fa5091\",\"details\":{\"parent_model\":\"\",\"format\":\"gguf\",\"family\":\"llama\",\"families\":[\"llama\"],\"parameter_size\":\"7.2B\",\"quantization_level\":\"Q4_0\"}},{\"name\":\"llama2:latest\",\"model\":\"llama2:latest\",\"modified_at\":\"2025-01-30T00:50:41.377805875-06:00\",\"size\":3826793677,\"digest\":\"78e26419b4469263f75331927a00a0284ef6544c1975b826b15abdaef17bb962\",\"details\":{\"parent_model\":\"\",\"format\":\"gguf\",\"family\":\"llama\",\"families\":[\"llama\"],\"parameter_size\":\"7B\",\"quantization_level\":\"Q4_0\"}}]}"
     ]
    }
   ],
   "source": [
    "!curl http://localhost:11434/api/tags\n",
    "#If above doesnt work start ollama\n",
    "#ollama serve\n",
    "#Pulling models\n",
    "#ollama pull llama2"
   ]
  },
  {
   "cell_type": "code",
   "execution_count": 22,
   "id": "2dca46eb-c5a6-4c66-a37a-a6c9a27a5d65",
   "metadata": {},
   "outputs": [],
   "source": [
    "import os\n",
    "import json\n",
    "import pandas as pd\n",
    "from langchain.document_loaders import PyPDFLoader\n",
    "from langchain.embeddings import HuggingFaceEmbeddings\n",
    "from langchain.vectorstores import FAISS\n",
    "from langchain.llms import Ollama\n",
    "from langchain.chains import LLMChain\n",
    "from langchain.prompts import PromptTemplate\n",
    "\n",
    "# Define the detailed categories\n",
    "document_categories = {\n",
    "    \"Work-Related\": [\n",
    "        \"Employment Contracts\", \"Performance Reviews\", \"Meeting Notes\", \"Technical Documentation\",\n",
    "        \"Certifications & Training\", \"Payslips & Financial Records\", \"Project Reports\",\n",
    "        \"Code Documentation\", \"Reference Materials\"\n",
    "    ],\n",
    "    \"College/Academics\": [\n",
    "        \"Lecture Notes\", \"Assignments & Homework\", \"Research Papers\", \"Exam Papers & Solutions\",\n",
    "        \"Course Syllabi\", \"Academic Transcripts\", \"Certificates & Diplomas\",\n",
    "        \"College Applications\", \"Study Materials\"\n",
    "    ],\n",
    "    \"Personal Documents\": [\n",
    "        \"Identification Documents\", \"Legal Documents\", \"Financial Statements\",\n",
    "        \"Insurance Policies\", \"Utility Bills\", \"Rental Agreements\",\n",
    "        \"Personal Letters & Diaries\", \"Password Lists/Security Info\"\n",
    "    ],\n",
    "    \"Projects/Open Source\": [\n",
    "        \"Project Proposals\", \"Design Documents\", \"GitHub Readmes\", \"Documentation\",\n",
    "        \"Contribution Guidelines\", \"Project Reports & Status Updates\"\n",
    "    ],\n",
    "    \"Receipts/Payments\": [\n",
    "        \"Online Purchase Receipts\", \"Bank Transfer Confirmations\", \"Utility Payment Records\",\n",
    "        \"Subscription Invoices\", \"Tax Receipts\", \"Reimbursement Forms\", \"Loan Documents\"\n",
    "    ],\n",
    "    \"Entertainment & Hobbies\": [\n",
    "        \"Book PDFs & eBooks\", \"Game Manuals & Guides\", \"Music Sheets\", \"Art/Photography Collections\",\n",
    "        \"Movie Scripts\", \"Cooking Recipes\", \"Event Tickets/Passes\", \"Personal Journals/Stories\"\n",
    "    ],\n",
    "    \"Health & Fitness\": [\n",
    "        \"Medical Reports\", \"Prescription Records\", \"Vaccination Certificates\",\n",
    "        \"Health Insurance Documents\", \"Workout Plans\", \"Diet Charts\",\n",
    "        \"Doctor’s Notes\", \"Pregnancy & Maternity Docs\"\n",
    "    ],\n",
    "    \"Travel\": [\n",
    "        \"Flight Tickets & Itineraries\", \"Hotel Bookings\", \"Travel Insurance\", \"Visa Documents\",\n",
    "        \"Maps & Travel Guides\", \"Travel Plans & Checklists\", \"Car Rental Agreements\", \"Cruise Documents\"\n",
    "    ],\n",
    "    \"Finance & Investments\": [\n",
    "        \"Tax Documents\", \"Investment Statements\", \"Cryptocurrency Reports\", \"Loan Agreements\",\n",
    "        \"Stock Portfolio Reports\", \"Budget & Expense Trackers\"\n",
    "    ],\n",
    "    \"Legal Documents\": [\n",
    "        \"Contracts & Agreements\", \"Court Documents\", \"Affidavits\", \"Property Deeds\", \"NDAs\",\n",
    "        \"Legal Correspondence\"\n",
    "    ],\n",
    "    \"Household & Property\": [\n",
    "        \"Property Deeds\", \"Lease/Rental Agreements\", \"Home Improvement Receipts\",\n",
    "        \"Appliance Manuals\", \"Maintenance Records\", \"Real Estate Documents\"\n",
    "    ],\n",
    "    \"Kids & Family\": [\n",
    "        \"School Reports\", \"Birth Certificates\", \"Family Tree Documents\", \"Activity Plans\", \"Parenting Guides\"\n",
    "    ],\n",
    "    \"Miscellaneous\": [\n",
    "        \"Scanned Notes\", \"Random Downloads\", \"Uncategorized Documents\"\n",
    "    ]\n",
    "}\n",
    "\n",
    "# Function to load PDFs from a folder\n",
    "def load_pdfs_from_folder(folder_path):\n",
    "    documents = []\n",
    "    for file in os.listdir(folder_path):\n",
    "        if file.endswith(\".pdf\"):\n",
    "            file_path = os.path.join(folder_path, file)\n",
    "            loader = PyPDFLoader(file_path)\n",
    "            pages = loader.load()\n",
    "            text = \"\\n\".join([page.page_content for page in pages])\n",
    "            documents.append((file, text))\n",
    "    return documents\n",
    "\n",
    "# Load Llama 2 using Ollama\n",
    "llm = Ollama(model=\"mistral\")\n",
    "\n",
    "# Define classification prompt\n",
    "template = \"\"\"\n",
    "You are an AI assistant trained to classify documents into specific categories.\n",
    "The available categories and subcategories are:\n",
    "\n",
    "{categories}\n",
    "\n",
    "Given the following document content, classify it into the top appropriate subcategory only:\n",
    "\n",
    "{document_text}\n",
    "\"\"\"\n",
    "\n",
    "prompt = PromptTemplate(\n",
    "    input_variables=[\"categories\", \"document_text\"],\n",
    "    template=template\n",
    ")\n",
    "\n",
    "chain = LLMChain(llm=llm, prompt=prompt)\n",
    "\n",
    "# Classify documents\n",
    "def classify_documents(documents):\n",
    "    results = []\n",
    "    categories_formatted = \"\\n\".join([\n",
    "        f\"{main_category}: {', '.join(subcategories)}\"\n",
    "        for main_category, subcategories in document_categories.items()\n",
    "    ])\n",
    "\n",
    "    for file_name, text in documents:\n",
    "        response = chain.run(categories=categories_formatted, document_text=text[:1000])  # Limit text to 1000 chars\n",
    "        results.append({\"file_name\": file_name, \"subcategory\": response.strip()})\n",
    "    return results\n",
    "\n",
    "# Main execution\n",
    "folder_path = \"/Users/nagasudheerravela/Desktop/Sudheer_AllDocs/test_pdf\"  # Change this to your actual folder path\n",
    "documents = load_pdfs_from_folder(folder_path)\n",
    "classified_docs = classify_documents(documents)\n"
   ]
  },
  {
   "cell_type": "code",
   "execution_count": 23,
   "id": "b8090504-ce11-4be4-a58f-d331bddb6b48",
   "metadata": {},
   "outputs": [
    {
     "name": "stdout",
     "output_type": "stream",
     "text": [
      "134988218_1657135083804.pdf -> This document falls under the category of **Finance & Investments > Interest Certificate**. The specific subcategory here would be **Interest Certificates**.\n",
      "Onboarding Logon Docs.pdf -> The document belongs to the subcategory \"Work-Related > Technical Documentation\". This document appears to provide logon credentials, LAN passwords, and instructions for setting up applications (VAST, VISTA, and COMPASS) and software like Lotus Notes and Outlook. It is a technical document related to employment or contractor work.\n",
      "CheckStub_2020-02-25.pdf -> The given document is a Payslip & Financial Record under the Work-Related category. Specifically, it falls under the subcategory \"Payslips & Financial Records\".\n",
      "CheckStub_2020-01-10.pdf -> Category: Work-Related\n",
      "   Subcategory: Payslips & Financial Records\n",
      "134988218_1657135081084.pdf -> This document belongs to the subcategory \"Finance & Investments\" specifically under \"Interest Certificates\".\n",
      "CheckStub_2020-01-24.pdf -> This document belongs to the \"Work-Related\" category, specifically \"Payslips & Financial Records\". The subcategory within this category would be \"Payroll Checks\".\n",
      "EDU_Unofficial_Transcript.pdf -> The document provided appears to be an Unofficial Transcript from The University of Texas at Tyler, detailing the academic record of a student named Naga Sudheer Ravela in the Computer Science program. This falls under the category of College/Academics. Specifically, it is Academic Transcripts as a subcategory.\n",
      "Corning_paystub.pdf -> This document falls under the category of \"Work-Related\" and the specific subcategory is \"Payslips & Financial Records\". The particular item in this case would be \"Payslips\".\n",
      "EDU_Unofficial_Transcript (1).pdf -> The document content provided appears to be an Academic Transcript, specifically a Graduate Transcript for Computer Science Major at The University of Texas at Tyler. Therefore, the appropriate subcategory for this document is College/Academics > Academic Transcripts.\n",
      "binder-summary.pdf -> This document belongs to the category \"Work-Related\" and more specifically to the subcategory \"Motor Vehicle Insurance Documents\".\n"
     ]
    }
   ],
   "source": [
    "for doc in classified_docs:\n",
    "    print(f\"{doc['file_name']} -> {doc['subcategory']}\")"
   ]
  },
  {
   "cell_type": "code",
   "execution_count": null,
   "id": "355cf54d-28a4-427b-a012-1a5c897d8785",
   "metadata": {},
   "outputs": [],
   "source": []
  }
 ],
 "metadata": {
  "kernelspec": {
   "display_name": "Python 3 (ipykernel)",
   "language": "python",
   "name": "python3"
  },
  "language_info": {
   "codemirror_mode": {
    "name": "ipython",
    "version": 3
   },
   "file_extension": ".py",
   "mimetype": "text/x-python",
   "name": "python",
   "nbconvert_exporter": "python",
   "pygments_lexer": "ipython3",
   "version": "3.9.6"
  }
 },
 "nbformat": 4,
 "nbformat_minor": 5
}
